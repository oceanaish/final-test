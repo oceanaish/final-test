{
  "nbformat": 4,
  "nbformat_minor": 0,
  "metadata": {
    "colab": {
      "provenance": []
    },
    "kernelspec": {
      "name": "python3",
      "display_name": "Python 3"
    },
    "language_info": {
      "name": "python"
    }
  },
  "cells": [
    {
      "cell_type": "markdown",
      "source": [
        "1. Buatlah API request untuk mendapatkan data return API berupa JSON seperti contoh di atas dengan menggunakan Python\n",
        "2. Ambil value dari key ‘data’ dalam JSON, dan transformasi menjadi sebuah DataFrame."
      ],
      "metadata": {
        "id": "kNPtzxXxUkg2"
      }
    },
    {
      "cell_type": "code",
      "execution_count": 15,
      "metadata": {
        "id": "T-5cpUWP4Kw0",
        "colab": {
          "base_uri": "https://localhost:8080/"
        },
        "outputId": "3cbfda04-47f7-4a58-8df3-d8439be2619a"
      },
      "outputs": [
        {
          "output_type": "stream",
          "name": "stdout",
          "text": [
            "                                               title  \\\n",
            "0  BTPN Bongkar Manfaat Digitalisasi: Pinjam Dana...   \n",
            "1  Menkominfo Tegaskan Jaringan Internet di IKN H...   \n",
            "2  BAKTI Ungkap 1 Faktor di Luar Kuasa Buat Sebar...   \n",
            "3  Bubble Burst Startup RI Diprediksi Hasilkan 'B...   \n",
            "4  Zulhas Akui Tak Anti Asing Buntut Larangan S-C...   \n",
            "5  Akademisi Jawab Soal Mimpi Mahasiswa RI Berkar...   \n",
            "6  Grab Akui Pionir Kendaraan Listrik, Pangkas 10...   \n",
            "7  Dirut BAKTI Kominfo Cerita Soal Keputusan Bang...   \n",
            "8  BAKTI Ungkap Angka-angka Menjanjikan Imbas Tra...   \n",
            "9        AI Jadi Kurikulum Wajib di Binus University   \n",
            "\n",
            "                                                link  \\\n",
            "0  https://www.cnnindonesia.com/teknologi/2023110...   \n",
            "1  https://www.cnnindonesia.com/teknologi/2023110...   \n",
            "2  https://www.cnnindonesia.com/teknologi/2023110...   \n",
            "3  https://www.cnnindonesia.com/teknologi/2023110...   \n",
            "4  https://www.cnnindonesia.com/teknologi/2023110...   \n",
            "5  https://www.cnnindonesia.com/teknologi/2023110...   \n",
            "6  https://www.cnnindonesia.com/teknologi/2023110...   \n",
            "7  https://www.cnnindonesia.com/teknologi/2023110...   \n",
            "8  https://www.cnnindonesia.com/teknologi/2023110...   \n",
            "9  https://www.cnnindonesia.com/teknologi/2023110...   \n",
            "\n",
            "                                      contentSnippet  \\\n",
            "0  PT Bank BTPN mengungkap salah satu manfaat dig...   \n",
            "1  Menurut Menkominfo Budi Arie Setiadi IKN akan ...   \n",
            "2  Badan Aksesibilitas Telekomunikasi dan Informa...   \n",
            "3  Fenomena bubble burst sempat dialami banyak st...   \n",
            "4  Zulhas menegaskan pemerintah tidak anti asing ...   \n",
            "5  Para dosen dan praktisi teknologi menjawab soa...   \n",
            "6  Grab Indonesia mengungkap telah memangkas 10 r...   \n",
            "7  Direktur Utama Badan Aksesibilitas Telekomunik...   \n",
            "8  Direktur Utama BAKTI Kominfo Fadhilah Mathar m...   \n",
            "9  Rektor Binus University Dr Nelly mengatakan ke...   \n",
            "\n",
            "                    isoDate                                              image  \n",
            "0  2023-11-09T13:33:20.000Z  {'small': 'https://akcdn.detik.net.id/visual/2...  \n",
            "1  2023-11-09T13:20:35.000Z  {'small': 'https://akcdn.detik.net.id/visual/2...  \n",
            "2  2023-11-09T13:14:05.000Z  {'small': 'https://akcdn.detik.net.id/visual/2...  \n",
            "3  2023-11-09T12:54:33.000Z  {'small': 'https://akcdn.detik.net.id/visual/2...  \n",
            "4  2023-11-09T12:34:39.000Z  {'small': 'https://akcdn.detik.net.id/visual/2...  \n",
            "5  2023-11-09T12:14:15.000Z  {'small': 'https://akcdn.detik.net.id/visual/2...  \n",
            "6  2023-11-09T11:43:08.000Z  {'small': 'https://akcdn.detik.net.id/visual/2...  \n",
            "7  2023-11-09T11:21:49.000Z  {'small': 'https://akcdn.detik.net.id/visual/2...  \n",
            "8  2023-11-09T11:14:44.000Z  {'small': 'https://akcdn.detik.net.id/visual/2...  \n",
            "9  2023-11-09T10:16:26.000Z  {'small': 'https://akcdn.detik.net.id/visual/2...  \n"
          ]
        }
      ],
      "source": [
        "import requests\n",
        "import pandas as pd\n",
        "\n",
        "api_url = \"https://berita-indo-api-next.vercel.app/api/cnn-news/teknologi\"\n",
        "\n",
        "response = requests.get(api_url)\n",
        "\n",
        "if response.status_code == 200:\n",
        "    json_data = response.json()\n",
        "    df = pd.DataFrame(json_data['data'])\n",
        "    print(df.head(10))\n",
        "\n",
        "else:\n",
        "    print(f\"HTTP request failed with status code: {response.status_code}\")\n"
      ]
    },
    {
      "cell_type": "markdown",
      "source": [
        "3. Transformasi data kolom ‘isoDate’ menjadi tipe data datetime"
      ],
      "metadata": {
        "id": "OjS6F_UEUsVN"
      }
    },
    {
      "cell_type": "code",
      "source": [
        "df['isoDate'] = pd.to_datetime(df['isoDate'])\n",
        "print(df.dtypes)"
      ],
      "metadata": {
        "colab": {
          "base_uri": "https://localhost:8080/"
        },
        "id": "XKIYc6hGUObq",
        "outputId": "06848612-2683-425c-9d7e-2cd259964dc4"
      },
      "execution_count": 14,
      "outputs": [
        {
          "output_type": "stream",
          "name": "stdout",
          "text": [
            "title                          object\n",
            "link                           object\n",
            "contentSnippet                 object\n",
            "isoDate           datetime64[ns, UTC]\n",
            "image                          object\n",
            "dtype: object\n"
          ]
        }
      ]
    },
    {
      "cell_type": "markdown",
      "source": [
        "4. Aggregasi data berdasarkan kolom ‘creator’, serta urutkan berdasarkan jumlah berita terbanyak."
      ],
      "metadata": {
        "id": "BcvnowZ-Uytl"
      }
    },
    {
      "cell_type": "code",
      "source": [
        "df_agg = df.groupby('creator').size()\n",
        "df_agg = df_agg.sort_values(ascending=False)\n",
        "print(df_agg)"
      ],
      "metadata": {
        "id": "GLWpvKkDV7Jt"
      },
      "execution_count": null,
      "outputs": []
    }
  ]
}